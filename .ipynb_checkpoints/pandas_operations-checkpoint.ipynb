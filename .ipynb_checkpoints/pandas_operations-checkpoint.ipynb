{
 "cells": [
  {
   "cell_type": "code",
   "execution_count": 1,
   "metadata": {},
   "outputs": [],
   "source": [
    "import pandas as pd\n",
    "import numpy as np\n",
    "import matplotlib.pyplot as plt\n",
    "import matplotlib.dates as mdates\n",
    "\n",
    "\n",
    "from glob import glob\n",
    "import datetime\n",
    "now = datetime.date.today() # data do pliku"
   ]
  },
  {
   "cell_type": "code",
   "execution_count": 2,
   "metadata": {},
   "outputs": [],
   "source": [
    "pd.set_option('display.width', None)\n",
    "pd.set_option('display.max_rows', None)\n",
    "pd.set_option('colheader_justify', 'center')"
   ]
  },
  {
   "cell_type": "code",
   "execution_count": 3,
   "metadata": {},
   "outputs": [],
   "source": [
    "# import starych df\n",
    "data_files = sorted(glob('Dane/dane*.csv'))\n",
    "df_old=pd.concat((pd.read_csv(file) for file in data_files), ignore_index=True)\n",
    "df_old['date']=pd.to_datetime(df_old['date'])\n",
    "df_old.drop('Unnamed: 0',axis=1,inplace=True,errors='ignore')"
   ]
  },
  {
   "cell_type": "code",
   "execution_count": 4,
   "metadata": {},
   "outputs": [],
   "source": [
    "from data import dane"
   ]
  },
  {
   "cell_type": "code",
   "execution_count": 5,
   "metadata": {},
   "outputs": [],
   "source": [
    "df_new = pd.DataFrame(dane, columns=['date', 'name', 'url', 'price', 'currency'])"
   ]
  },
  {
   "cell_type": "code",
   "execution_count": 6,
   "metadata": {},
   "outputs": [],
   "source": [
    "df_new.to_csv(f'Dane/dane{now}.csv',mode='a', header=False)"
   ]
  },
  {
   "cell_type": "markdown",
   "metadata": {},
   "source": [
    "# Mardzin framow"
   ]
  },
  {
   "cell_type": "code",
   "execution_count": 7,
   "metadata": {},
   "outputs": [],
   "source": [
    "df_all=pd.concat([df_old, df_new], ignore_index=True)"
   ]
  },
  {
   "cell_type": "code",
   "execution_count": 8,
   "metadata": {},
   "outputs": [],
   "source": [
    "df_all.to_csv(f'Dane/all_data.csv')"
   ]
  },
  {
   "cell_type": "code",
   "execution_count": 9,
   "metadata": {},
   "outputs": [],
   "source": [
    "# Produktuy"
   ]
  },
  {
   "cell_type": "code",
   "execution_count": 10,
   "metadata": {},
   "outputs": [
    {
     "data": {
      "text/html": [
       "<div>\n",
       "<style scoped>\n",
       "    .dataframe tbody tr th:only-of-type {\n",
       "        vertical-align: middle;\n",
       "    }\n",
       "\n",
       "    .dataframe tbody tr th {\n",
       "        vertical-align: top;\n",
       "    }\n",
       "\n",
       "    .dataframe thead th {\n",
       "        text-align: right;\n",
       "    }\n",
       "</style>\n",
       "<table border=\"1\" class=\"dataframe\">\n",
       "  <thead>\n",
       "    <tr style=\"text-align: center;\">\n",
       "      <th></th>\n",
       "      <th>name</th>\n",
       "      <th>url</th>\n",
       "    </tr>\n",
       "  </thead>\n",
       "  <tbody>\n",
       "    <tr>\n",
       "      <th>0</th>\n",
       "      <td>quilt</td>\n",
       "      <td>https://cumulus.equipment/pl_pl/spiwory/quilty...</td>\n",
       "    </tr>\n",
       "    <tr>\n",
       "      <th>1</th>\n",
       "      <td>esker</td>\n",
       "      <td>https://kross.eu/pl/rowery/szosowe/gravel/eske...</td>\n",
       "    </tr>\n",
       "    <tr>\n",
       "      <th>2</th>\n",
       "      <td>selex400_1</td>\n",
       "      <td>https://www.merida-bikes.com/pl-pl/bike/667/si...</td>\n",
       "    </tr>\n",
       "    <tr>\n",
       "      <th>3</th>\n",
       "      <td>silex400_2</td>\n",
       "      <td>https://rower.com.pl/merida-silex-400--2079478</td>\n",
       "    </tr>\n",
       "    <tr>\n",
       "      <th>4</th>\n",
       "      <td>silex400_3</td>\n",
       "      <td>http://www.megastart.pl/rowery/turystyczne/sil...</td>\n",
       "    </tr>\n",
       "    <tr>\n",
       "      <th>5</th>\n",
       "      <td>worek5L</td>\n",
       "      <td>https://8a.pl/worek-wodoszczelny-exped-fold-dr...</td>\n",
       "    </tr>\n",
       "    <tr>\n",
       "      <th>6</th>\n",
       "      <td>worek4L</td>\n",
       "      <td>https://www.skalnik.pl/worek-ultra-sil-nano-4l...</td>\n",
       "    </tr>\n",
       "    <tr>\n",
       "      <th>7</th>\n",
       "      <td>stuptuty</td>\n",
       "      <td>https://8a.pl/stuptuty-biegowe-inov-8-all-terr...</td>\n",
       "    </tr>\n",
       "    <tr>\n",
       "      <th>8</th>\n",
       "      <td>ponczo</td>\n",
       "      <td>https://www.decathlon.pl/p/ponczo-my-liwskie-g...</td>\n",
       "    </tr>\n",
       "    <tr>\n",
       "      <th>9</th>\n",
       "      <td>worek5L-2</td>\n",
       "      <td>https://8a.pl/lifeventure-ultralight-dry-bag-5-l</td>\n",
       "    </tr>\n",
       "    <tr>\n",
       "      <th>10</th>\n",
       "      <td>katadyn_1l</td>\n",
       "      <td>https://8a.pl/butelka-filtracyjna-katadyn-befr...</td>\n",
       "    </tr>\n",
       "    <tr>\n",
       "      <th>11</th>\n",
       "      <td>stuptuty_gore</td>\n",
       "      <td>https://8a.pl/stuptuty-trekmates-glenmore-gtx-...</td>\n",
       "    </tr>\n",
       "    <tr>\n",
       "      <th>12</th>\n",
       "      <td>x-box x</td>\n",
       "      <td>https://www.x-kom.pl/p/577874-konsola-xbox-mic...</td>\n",
       "    </tr>\n",
       "  </tbody>\n",
       "</table>\n",
       "</div>"
      ],
      "text/plain": [
       "        name                             url                        \n",
       "0           quilt  https://cumulus.equipment/pl_pl/spiwory/quilty...\n",
       "1           esker  https://kross.eu/pl/rowery/szosowe/gravel/eske...\n",
       "2      selex400_1  https://www.merida-bikes.com/pl-pl/bike/667/si...\n",
       "3      silex400_2     https://rower.com.pl/merida-silex-400--2079478\n",
       "4      silex400_3  http://www.megastart.pl/rowery/turystyczne/sil...\n",
       "5         worek5L  https://8a.pl/worek-wodoszczelny-exped-fold-dr...\n",
       "6         worek4L  https://www.skalnik.pl/worek-ultra-sil-nano-4l...\n",
       "7        stuptuty  https://8a.pl/stuptuty-biegowe-inov-8-all-terr...\n",
       "8          ponczo  https://www.decathlon.pl/p/ponczo-my-liwskie-g...\n",
       "9       worek5L-2   https://8a.pl/lifeventure-ultralight-dry-bag-5-l\n",
       "10     katadyn_1l  https://8a.pl/butelka-filtracyjna-katadyn-befr...\n",
       "11  stuptuty_gore  https://8a.pl/stuptuty-trekmates-glenmore-gtx-...\n",
       "12        x-box x  https://www.x-kom.pl/p/577874-konsola-xbox-mic..."
      ]
     },
     "execution_count": 10,
     "metadata": {},
     "output_type": "execute_result"
    }
   ],
   "source": [
    "df_produkty=df_all[['name','url']].drop_duplicates()\n",
    "# df_produkty.set_index('name',inplace=True)\n",
    "df_produkty.reset_index(inplace=True,drop=True)\n",
    "df_produkty"
   ]
  },
  {
   "cell_type": "markdown",
   "metadata": {},
   "source": [
    "# Pivoty"
   ]
  },
  {
   "cell_type": "code",
   "execution_count": 11,
   "metadata": {},
   "outputs": [],
   "source": [
    "piv=df_all.pivot_table(index=(df_all.date.dt.year,df_all.date.dt.month,df_all.date.dt.day),columns='name',values='price',aggfunc=min)"
   ]
  },
  {
   "cell_type": "code",
   "execution_count": 12,
   "metadata": {},
   "outputs": [
    {
     "data": {
      "text/html": [
       "<div>\n",
       "<style scoped>\n",
       "    .dataframe tbody tr th:only-of-type {\n",
       "        vertical-align: middle;\n",
       "    }\n",
       "\n",
       "    .dataframe tbody tr th {\n",
       "        vertical-align: top;\n",
       "    }\n",
       "\n",
       "    .dataframe thead th {\n",
       "        text-align: right;\n",
       "    }\n",
       "</style>\n",
       "<table border=\"1\" class=\"dataframe\">\n",
       "  <thead>\n",
       "    <tr style=\"text-align: center;\">\n",
       "      <th></th>\n",
       "      <th></th>\n",
       "      <th>name</th>\n",
       "      <th>esker</th>\n",
       "      <th>katadyn_1l</th>\n",
       "      <th>ponczo</th>\n",
       "      <th>quilt</th>\n",
       "      <th>selex400_1</th>\n",
       "      <th>silex400_2</th>\n",
       "      <th>silex400_3</th>\n",
       "      <th>stuptuty</th>\n",
       "      <th>stuptuty_gore</th>\n",
       "      <th>worek4L</th>\n",
       "      <th>worek5L</th>\n",
       "      <th>worek5L-2</th>\n",
       "      <th>x-box x</th>\n",
       "    </tr>\n",
       "    <tr>\n",
       "      <th>date</th>\n",
       "      <th>date</th>\n",
       "      <th>date</th>\n",
       "      <th></th>\n",
       "      <th></th>\n",
       "      <th></th>\n",
       "      <th></th>\n",
       "      <th></th>\n",
       "      <th></th>\n",
       "      <th></th>\n",
       "      <th></th>\n",
       "      <th></th>\n",
       "      <th></th>\n",
       "      <th></th>\n",
       "      <th></th>\n",
       "      <th></th>\n",
       "    </tr>\n",
       "  </thead>\n",
       "  <tbody>\n",
       "    <tr>\n",
       "      <th rowspan=\"10\" valign=\"top\">2020</th>\n",
       "      <th rowspan=\"10\" valign=\"top\">12</th>\n",
       "      <th>1</th>\n",
       "      <td>4899.0</td>\n",
       "      <td>NaN</td>\n",
       "      <td>59.99</td>\n",
       "      <td>889.0</td>\n",
       "      <td>6699.0</td>\n",
       "      <td>6499.0</td>\n",
       "      <td>6999.0</td>\n",
       "      <td>51.99</td>\n",
       "      <td>NaN</td>\n",
       "      <td>43.86</td>\n",
       "      <td>59.49</td>\n",
       "      <td>NaN</td>\n",
       "      <td>NaN</td>\n",
       "    </tr>\n",
       "    <tr>\n",
       "      <th>2</th>\n",
       "      <td>4899.0</td>\n",
       "      <td>NaN</td>\n",
       "      <td>59.99</td>\n",
       "      <td>889.0</td>\n",
       "      <td>6699.0</td>\n",
       "      <td>6499.0</td>\n",
       "      <td>6999.0</td>\n",
       "      <td>71.99</td>\n",
       "      <td>NaN</td>\n",
       "      <td>43.86</td>\n",
       "      <td>79.49</td>\n",
       "      <td>NaN</td>\n",
       "      <td>NaN</td>\n",
       "    </tr>\n",
       "    <tr>\n",
       "      <th>3</th>\n",
       "      <td>4899.0</td>\n",
       "      <td>NaN</td>\n",
       "      <td>59.99</td>\n",
       "      <td>889.0</td>\n",
       "      <td>6699.0</td>\n",
       "      <td>6499.0</td>\n",
       "      <td>6999.0</td>\n",
       "      <td>71.99</td>\n",
       "      <td>NaN</td>\n",
       "      <td>43.86</td>\n",
       "      <td>59.49</td>\n",
       "      <td>NaN</td>\n",
       "      <td>NaN</td>\n",
       "    </tr>\n",
       "    <tr>\n",
       "      <th>5</th>\n",
       "      <td>4899.0</td>\n",
       "      <td>NaN</td>\n",
       "      <td>59.99</td>\n",
       "      <td>889.0</td>\n",
       "      <td>6699.0</td>\n",
       "      <td>6499.0</td>\n",
       "      <td>6999.0</td>\n",
       "      <td>71.99</td>\n",
       "      <td>NaN</td>\n",
       "      <td>43.86</td>\n",
       "      <td>59.49</td>\n",
       "      <td>NaN</td>\n",
       "      <td>NaN</td>\n",
       "    </tr>\n",
       "    <tr>\n",
       "      <th>6</th>\n",
       "      <td>4899.0</td>\n",
       "      <td>NaN</td>\n",
       "      <td>59.99</td>\n",
       "      <td>889.0</td>\n",
       "      <td>6699.0</td>\n",
       "      <td>6499.0</td>\n",
       "      <td>6999.0</td>\n",
       "      <td>71.99</td>\n",
       "      <td>NaN</td>\n",
       "      <td>43.86</td>\n",
       "      <td>59.49</td>\n",
       "      <td>47.39</td>\n",
       "      <td>NaN</td>\n",
       "    </tr>\n",
       "    <tr>\n",
       "      <th>7</th>\n",
       "      <td>4899.0</td>\n",
       "      <td>203.99</td>\n",
       "      <td>59.99</td>\n",
       "      <td>889.0</td>\n",
       "      <td>6699.0</td>\n",
       "      <td>6499.0</td>\n",
       "      <td>6999.0</td>\n",
       "      <td>71.99</td>\n",
       "      <td>NaN</td>\n",
       "      <td>43.86</td>\n",
       "      <td>59.49</td>\n",
       "      <td>47.39</td>\n",
       "      <td>NaN</td>\n",
       "    </tr>\n",
       "    <tr>\n",
       "      <th>8</th>\n",
       "      <td>4899.0</td>\n",
       "      <td>203.99</td>\n",
       "      <td>59.99</td>\n",
       "      <td>889.0</td>\n",
       "      <td>6699.0</td>\n",
       "      <td>6499.0</td>\n",
       "      <td>6999.0</td>\n",
       "      <td>71.99</td>\n",
       "      <td>NaN</td>\n",
       "      <td>43.86</td>\n",
       "      <td>59.49</td>\n",
       "      <td>47.39</td>\n",
       "      <td>NaN</td>\n",
       "    </tr>\n",
       "    <tr>\n",
       "      <th>9</th>\n",
       "      <td>4899.0</td>\n",
       "      <td>203.99</td>\n",
       "      <td>59.99</td>\n",
       "      <td>889.0</td>\n",
       "      <td>6699.0</td>\n",
       "      <td>6499.0</td>\n",
       "      <td>6999.0</td>\n",
       "      <td>71.99</td>\n",
       "      <td>114.79</td>\n",
       "      <td>43.86</td>\n",
       "      <td>59.49</td>\n",
       "      <td>47.39</td>\n",
       "      <td>NaN</td>\n",
       "    </tr>\n",
       "    <tr>\n",
       "      <th>10</th>\n",
       "      <td>4899.0</td>\n",
       "      <td>203.99</td>\n",
       "      <td>59.99</td>\n",
       "      <td>889.0</td>\n",
       "      <td>6699.0</td>\n",
       "      <td>6499.0</td>\n",
       "      <td>6999.0</td>\n",
       "      <td>71.99</td>\n",
       "      <td>114.79</td>\n",
       "      <td>43.86</td>\n",
       "      <td>59.49</td>\n",
       "      <td>47.39</td>\n",
       "      <td>NaN</td>\n",
       "    </tr>\n",
       "    <tr>\n",
       "      <th>11</th>\n",
       "      <td>4899.0</td>\n",
       "      <td>203.99</td>\n",
       "      <td>59.99</td>\n",
       "      <td>889.0</td>\n",
       "      <td>6699.0</td>\n",
       "      <td>6499.0</td>\n",
       "      <td>6999.0</td>\n",
       "      <td>71.99</td>\n",
       "      <td>114.79</td>\n",
       "      <td>43.86</td>\n",
       "      <td>59.49</td>\n",
       "      <td>47.39</td>\n",
       "      <td>2249.0</td>\n",
       "    </tr>\n",
       "  </tbody>\n",
       "</table>\n",
       "</div>"
      ],
      "text/plain": [
       "name             esker  katadyn_1l  ponczo  quilt  selex400_1  silex400_2  \\\n",
       "date date date                                                              \n",
       "2020 12   1     4899.0       NaN     59.99  889.0    6699.0      6499.0     \n",
       "          2     4899.0       NaN     59.99  889.0    6699.0      6499.0     \n",
       "          3     4899.0       NaN     59.99  889.0    6699.0      6499.0     \n",
       "          5     4899.0       NaN     59.99  889.0    6699.0      6499.0     \n",
       "          6     4899.0       NaN     59.99  889.0    6699.0      6499.0     \n",
       "          7     4899.0    203.99     59.99  889.0    6699.0      6499.0     \n",
       "          8     4899.0    203.99     59.99  889.0    6699.0      6499.0     \n",
       "          9     4899.0    203.99     59.99  889.0    6699.0      6499.0     \n",
       "          10    4899.0    203.99     59.99  889.0    6699.0      6499.0     \n",
       "          11    4899.0    203.99     59.99  889.0    6699.0      6499.0     \n",
       "\n",
       "name            silex400_3  stuptuty  stuptuty_gore  worek4L  worek5L  \\\n",
       "date date date                                                          \n",
       "2020 12   1       6999.0      51.99         NaN       43.86    59.49    \n",
       "          2       6999.0      71.99         NaN       43.86    79.49    \n",
       "          3       6999.0      71.99         NaN       43.86    59.49    \n",
       "          5       6999.0      71.99         NaN       43.86    59.49    \n",
       "          6       6999.0      71.99         NaN       43.86    59.49    \n",
       "          7       6999.0      71.99         NaN       43.86    59.49    \n",
       "          8       6999.0      71.99         NaN       43.86    59.49    \n",
       "          9       6999.0      71.99      114.79       43.86    59.49    \n",
       "          10      6999.0      71.99      114.79       43.86    59.49    \n",
       "          11      6999.0      71.99      114.79       43.86    59.49    \n",
       "\n",
       "name            worek5L-2  x-box x  \n",
       "date date date                      \n",
       "2020 12   1         NaN       NaN   \n",
       "          2         NaN       NaN   \n",
       "          3         NaN       NaN   \n",
       "          5         NaN       NaN   \n",
       "          6       47.39       NaN   \n",
       "          7       47.39       NaN   \n",
       "          8       47.39       NaN   \n",
       "          9       47.39       NaN   \n",
       "          10      47.39       NaN   \n",
       "          11      47.39    2249.0   "
      ]
     },
     "execution_count": 12,
     "metadata": {},
     "output_type": "execute_result"
    }
   ],
   "source": [
    "piv"
   ]
  },
  {
   "cell_type": "code",
   "execution_count": 13,
   "metadata": {
    "scrolled": false
   },
   "outputs": [],
   "source": [
    "filtr1=piv.diff().ne(0).any(1)"
   ]
  },
  {
   "cell_type": "code",
   "execution_count": 14,
   "metadata": {},
   "outputs": [],
   "source": [
    "filtr2=piv.diff().any(1)"
   ]
  },
  {
   "cell_type": "code",
   "execution_count": 15,
   "metadata": {},
   "outputs": [],
   "source": [
    "df_diff=piv[filtr1]"
   ]
  },
  {
   "cell_type": "markdown",
   "metadata": {},
   "source": [
    "# Ploty"
   ]
  },
  {
   "cell_type": "code",
   "execution_count": 16,
   "metadata": {
    "scrolled": false
   },
   "outputs": [
    {
     "data": {
      "image/png": "[encoded data removed]",
      "text/plain": [
       "<Figure size 1080x1440 with 14 Axes>"
      ]
     },
     "metadata": {
      "needs_background": "light"
     },
     "output_type": "display_data"
    }
   ],
   "source": [
    "fig, axes = plt.subplots(int(np.ceil(piv.columns.size/2)),2,figsize=(15,20),sharex=True)\n",
    "fig.suptitle('Ceny', fontsize=22)\n",
    "fig.tight_layout()\n",
    "fig.subplots_adjust(top=0.95)\n",
    "for n,a in enumerate(axes.flat):\n",
    "    if n < piv.columns.size:\n",
    "        piv.iloc[:,n].plot(ax=a,kind='bar',grid=True)\n",
    "        a.set(xlabel=f'(Rok, Miesiąc, Dzien)', ylabel=f'Cena',title=f\"{piv.columns[n]}\")\n",
    "\n",
    "plt.savefig('Fig/graph.png',transparent=False)\n",
    "# plt.show()\n"
   ]
  },
  {
   "cell_type": "code",
   "execution_count": 17,
   "metadata": {},
   "outputs": [],
   "source": [
    "# testy"
   ]
  },
  {
   "cell_type": "code",
   "execution_count": null,
   "metadata": {},
   "outputs": [],
   "source": []
  }
 ],
 "metadata": {
  "kernelspec": {
   "display_name": "Python 3",
   "language": "python",
   "name": "python3"
  },
  "language_info": {
   "codemirror_mode": {
    "name": "ipython",
    "version": 3
   },
   "file_extension": ".py",
   "mimetype": "text/x-python",
   "name": "python",
   "nbconvert_exporter": "python",
   "pygments_lexer": "ipython3",
   "version": "3.8.6"
  }
 },
 "nbformat": 4,
 "nbformat_minor": 4
}
